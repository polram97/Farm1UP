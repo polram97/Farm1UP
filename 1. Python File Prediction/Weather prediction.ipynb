{
 "cells": [
  {
   "cell_type": "markdown",
   "metadata": {},
   "source": [
    "## Python notebook for Weather prediction\n",
    "    This code makes a weather prediction by writing a location"
   ]
  },
  {
   "cell_type": "markdown",
   "metadata": {},
   "source": [
    "-You need to install \"geckodriver\" and \"chromedriver\" in the File \"Drivers\" \n",
    "-The you need to install selenium library by 'pip install selenium'"
   ]
  },
  {
   "cell_type": "code",
   "execution_count": 10,
   "metadata": {},
   "outputs": [
    {
     "name": "stdout",
     "output_type": "stream",
     "text": [
      "Collecting selenium\n",
      "  Downloading selenium-3.141.0-py2.py3-none-any.whl (904 kB)\n",
      "Requirement already satisfied: urllib3 in d:\\supercarpeta\\anaconda\\lib\\site-packages (from selenium) (1.25.11)\n",
      "Installing collected packages: selenium\n",
      "Successfully installed selenium-3.141.0\n",
      "Note: you may need to restart the kernel to use updated packages.\n"
     ]
    }
   ],
   "source": [
    "pip install selenium"
   ]
  },
  {
   "cell_type": "code",
   "execution_count": 3,
   "metadata": {},
   "outputs": [
    {
     "name": "stdout",
     "output_type": "stream",
     "text": [
      "Enter the name of the city you want the weather forecast for: Riobamba\n",
      "Light rain (total 2mm), mostly falling on Mon morning. Very mild (max 11°C on Sat afternoon, min 2°C on Mon night). Wind will be generally light.\n"
     ]
    }
   ],
   "source": [
    "from selenium import  webdriver\n",
    "\n",
    "# if using chrome\n",
    "driver = webdriver.Chrome()\n",
    "\n",
    "# uncomment if using Firefox\n",
    "# driver = webdriver.Firefox()\n",
    "\n",
    "# Replace space from - For example new-york.\n",
    "city = str(input(\"Enter the name of the city you want the weather forecast for: \")).replace(\" \",\"-\")\n",
    "\n",
    "try:\n",
    "    driver.get(\"https://www.weather-forecast.com/locations/\"+city+\"/forecasts/latest\")\n",
    "    print(driver.find_elements_by_class_name(\"b-forecast__table-description-content\")[0].text)\n",
    "except:\n",
    "    print(\"Something went wrong\")"
   ]
  },
  {
   "cell_type": "code",
   "execution_count": null,
   "metadata": {},
   "outputs": [],
   "source": []
  }
 ],
 "metadata": {
  "kernelspec": {
   "display_name": "Python 3",
   "language": "python",
   "name": "python3"
  },
  "language_info": {
   "codemirror_mode": {
    "name": "ipython",
    "version": 3
   },
   "file_extension": ".py",
   "mimetype": "text/x-python",
   "name": "python",
   "nbconvert_exporter": "python",
   "pygments_lexer": "ipython3",
   "version": "3.8.5"
  }
 },
 "nbformat": 4,
 "nbformat_minor": 4
}
